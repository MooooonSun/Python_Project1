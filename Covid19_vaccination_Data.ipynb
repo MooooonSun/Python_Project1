{
 "cells": [
  {
   "cell_type": "markdown",
   "id": "c8f345c5",
   "metadata": {},
   "source": [
    "# [Project1] \n",
    "\n",
    "# 서울특별시_코로나19 백신 예방접종 현황"
   ]
  },
  {
   "cell_type": "markdown",
   "id": "d97bfe35",
   "metadata": {},
   "source": [
    " # 프로젝트 목표\n",
    " \n",
    "  -서울시 코로나19 백신 예방접종 현황 데이터를 분석하여 유의미한 정보 도출\n",
    "  -탐색적 데이터 분석을 수행하기 위한 데이터 정제, 특성 엔지니어링, 시각화 방법 학습"
   ]
  },
  {
   "cell_type": "markdown",
   "id": "abf0f766",
   "metadata": {},
   "source": [
    "# 프로젝트 목차\n",
    "\n",
    "1. 데이터 읽기: 코로나 데이터를 불러오고 Dataframe 구조를 확인\n",
    "    \n",
    "    1.1. 데이터 불러오기\n",
    "    \n",
    "\n",
    "2. 데이터 정제: 비어 있는 데이터 또는 쓸모 없는 데이터를 삭제\n",
    "    \n",
    "    2.1. 비어있는 column 지우기\n",
    "    \n",
    "\n",
    "3. 데이터 시각화: 각 변수 별로 추가적인 정제 또는 feature engineering 과정을 거치고 시각화를 통하여 데이터의 특성 파악\n",
    "\n",
    "     3.1. 예방접종일 데이터 전처리하기\n",
    "     \n",
    "     3.2. 데이터 확인하기\n",
    "     \n",
    "     3.3. 월별 코로나 1차예방접종자 현황 출력\n",
    "     \n",
    "     3.4. 월별 코로나 2차예방접종자 현황 출력\n",
    "     \n",
    "     3.5. 9월 코로나 예방접종 현황 데이터만 추출\n",
    "     \n",
    "     3.6. 9월 일별 1차 예방접종자 수 출력\n",
    "     \n",
    "     3.7. 9월 일별 2차 예방접종자 수 출력\n",
    "     \n",
    "     3.8. 월별 1차/ 2차접종률 데이터 그래프 분석\n"
   ]
  },
  {
   "cell_type": "markdown",
   "id": "fdb2bd4f",
   "metadata": {},
   "source": [
    "# 데이터 출처\n",
    "\n",
    "     https://www.data.go.kr/data/15078073/fileData.do \n"
   ]
  },
  {
   "cell_type": "markdown",
   "id": "ddf8af81",
   "metadata": {},
   "source": [
    "# 프로젝트 개요\n",
    "\n",
    "        -코로나 확진자가 느는 시점에 접종자의 추세가 어떻게 되어가는지 궁금하여 \n",
    "        데이터를 분석해보려고 한다. 일별 코로나 접종자 수를 확인해보면 추세를 \n",
    "        확인해 볼 수 있을 것 같다.\n",
    "        \n",
    "        -이번 프로젝트로 서울 열린 데이터 광장에서 제공하는 '서울시 코로나19 백신 예\n",
    "        방접종 현황' 데이터를 분석하고 데이터를 그래프로 나타내 상황을 직관적으로 확\n",
    "        인해보려한다.\n",
    "        "
   ]
  },
  {
   "cell_type": "markdown",
   "id": "136b859f",
   "metadata": {},
   "source": [
    "# 1. 데이터 읽기\n",
    "\n",
    "        코로나 데이터를 불러오고 Dataframe 구조를 확인"
   ]
  },
  {
   "cell_type": "markdown",
   "id": "4d59467c",
   "metadata": {},
   "source": [
    "# 1.1. 데이터 불러오기"
   ]
  },
  {
   "cell_type": "code",
   "execution_count": 1,
   "id": "43282b40",
   "metadata": {},
   "outputs": [],
   "source": [
    "import numpy as np \n",
    "import pandas as pd \n",
    "import matplotlib.pyplot as plt\n",
    "import seaborn as sns"
   ]
  },
  {
   "cell_type": "code",
   "execution_count": 2,
   "id": "f1e74990",
   "metadata": {},
   "outputs": [],
   "source": [
    "# pd.read_csv를 통하여 dataframe 형태로 읽어온다.\n",
    "corona_all=pd.read_csv(\"./data/서울특별시 코로나19 백신 예방접종 현황.csv\", encoding='euc-kr')"
   ]
  },
  {
   "cell_type": "code",
   "execution_count": 3,
   "id": "3ca7afdf",
   "metadata": {},
   "outputs": [
    {
     "data": {
      "text/html": [
       "<div>\n",
       "<style scoped>\n",
       "    .dataframe tbody tr th:only-of-type {\n",
       "        vertical-align: middle;\n",
       "    }\n",
       "\n",
       "    .dataframe tbody tr th {\n",
       "        vertical-align: top;\n",
       "    }\n",
       "\n",
       "    .dataframe thead th {\n",
       "        text-align: right;\n",
       "    }\n",
       "</style>\n",
       "<table border=\"1\" class=\"dataframe\">\n",
       "  <thead>\n",
       "    <tr style=\"text-align: right;\">\n",
       "      <th></th>\n",
       "      <th>접종일</th>\n",
       "      <th>접종대상자</th>\n",
       "      <th>당일 1차접종자 수</th>\n",
       "      <th>1차접종 누계</th>\n",
       "      <th>1차접종률(%)</th>\n",
       "      <th>당일 2차접종자 수</th>\n",
       "      <th>2차접종 누계</th>\n",
       "      <th>2차접종률(%)</th>\n",
       "    </tr>\n",
       "  </thead>\n",
       "  <tbody>\n",
       "    <tr>\n",
       "      <th>0</th>\n",
       "      <td>2021.09.13</td>\n",
       "      <td>9575355</td>\n",
       "      <td>169036</td>\n",
       "      <td>6340285</td>\n",
       "      <td>64.4</td>\n",
       "      <td>68468</td>\n",
       "      <td>3790493</td>\n",
       "      <td>38.9</td>\n",
       "    </tr>\n",
       "    <tr>\n",
       "      <th>1</th>\n",
       "      <td>2021.09.12</td>\n",
       "      <td>9575355</td>\n",
       "      <td>3546</td>\n",
       "      <td>6171056</td>\n",
       "      <td>64.4</td>\n",
       "      <td>4917</td>\n",
       "      <td>3721786</td>\n",
       "      <td>38.9</td>\n",
       "    </tr>\n",
       "    <tr>\n",
       "      <th>2</th>\n",
       "      <td>2021.09.11</td>\n",
       "      <td>9575355</td>\n",
       "      <td>60926</td>\n",
       "      <td>6167426</td>\n",
       "      <td>64.4</td>\n",
       "      <td>40766</td>\n",
       "      <td>3716811</td>\n",
       "      <td>38.8</td>\n",
       "    </tr>\n",
       "    <tr>\n",
       "      <th>3</th>\n",
       "      <td>2021.09.10</td>\n",
       "      <td>9575355</td>\n",
       "      <td>123400</td>\n",
       "      <td>6105756</td>\n",
       "      <td>63.8</td>\n",
       "      <td>72243</td>\n",
       "      <td>3675621</td>\n",
       "      <td>38.4</td>\n",
       "    </tr>\n",
       "    <tr>\n",
       "      <th>4</th>\n",
       "      <td>2021.09.09</td>\n",
       "      <td>9575355</td>\n",
       "      <td>91416</td>\n",
       "      <td>5981858</td>\n",
       "      <td>62.5</td>\n",
       "      <td>50641</td>\n",
       "      <td>3603102</td>\n",
       "      <td>37.6</td>\n",
       "    </tr>\n",
       "  </tbody>\n",
       "</table>\n",
       "</div>"
      ],
      "text/plain": [
       "          접종일    접종대상자  당일 1차접종자 수  1차접종 누계  1차접종률(%)  당일 2차접종자 수  2차접종 누계  \\\n",
       "0  2021.09.13  9575355      169036  6340285      64.4       68468  3790493   \n",
       "1  2021.09.12  9575355        3546  6171056      64.4        4917  3721786   \n",
       "2  2021.09.11  9575355       60926  6167426      64.4       40766  3716811   \n",
       "3  2021.09.10  9575355      123400  6105756      63.8       72243  3675621   \n",
       "4  2021.09.09  9575355       91416  5981858      62.5       50641  3603102   \n",
       "\n",
       "   2차접종률(%)  \n",
       "0      38.9  \n",
       "1      38.9  \n",
       "2      38.8  \n",
       "3      38.4  \n",
       "4      37.6  "
      ]
     },
     "execution_count": 3,
     "metadata": {},
     "output_type": "execute_result"
    }
   ],
   "source": [
    "# 상위 5개 데이터를 출력한다.\n",
    "corona_all.head()"
   ]
  },
  {
   "cell_type": "code",
   "execution_count": 4,
   "id": "7893f378",
   "metadata": {},
   "outputs": [
    {
     "name": "stdout",
     "output_type": "stream",
     "text": [
      "<class 'pandas.core.frame.DataFrame'>\n",
      "RangeIndex: 146 entries, 0 to 145\n",
      "Data columns (total 8 columns):\n",
      " #   Column      Non-Null Count  Dtype  \n",
      "---  ------      --------------  -----  \n",
      " 0   접종일         146 non-null    object \n",
      " 1   접종대상자       146 non-null    int64  \n",
      " 2   당일 1차접종자 수  146 non-null    int64  \n",
      " 3   1차접종 누계     146 non-null    int64  \n",
      " 4   1차접종률(%)    146 non-null    float64\n",
      " 5   당일 2차접종자 수  146 non-null    int64  \n",
      " 6   2차접종 누계     146 non-null    int64  \n",
      " 7   2차접종률(%)    146 non-null    float64\n",
      "dtypes: float64(2), int64(5), object(1)\n",
      "memory usage: 9.2+ KB\n",
      "None\n"
     ]
    }
   ],
   "source": [
    "# dataframe 정보를 요약하여 출력한다. \n",
    "print(corona_all.info())"
   ]
  },
  {
   "cell_type": "markdown",
   "id": "02c5a850",
   "metadata": {},
   "source": [
    "# 2. 데이터 정제 \n",
    "\n",
    "        비어 있는 데이터 또는 쓸모 없는 데이터를 삭제"
   ]
  },
  {
   "cell_type": "markdown",
   "id": "e49b3ba6",
   "metadata": {},
   "source": [
    "# 2.1. 비어있는 column 또는 쓸모 없는 데이터를 삭제 "
   ]
  },
  {
   "cell_type": "code",
   "execution_count": 5,
   "id": "117e53c6",
   "metadata": {},
   "outputs": [
    {
     "data": {
      "text/html": [
       "<div>\n",
       "<style scoped>\n",
       "    .dataframe tbody tr th:only-of-type {\n",
       "        vertical-align: middle;\n",
       "    }\n",
       "\n",
       "    .dataframe tbody tr th {\n",
       "        vertical-align: top;\n",
       "    }\n",
       "\n",
       "    .dataframe thead th {\n",
       "        text-align: right;\n",
       "    }\n",
       "</style>\n",
       "<table border=\"1\" class=\"dataframe\">\n",
       "  <thead>\n",
       "    <tr style=\"text-align: right;\">\n",
       "      <th></th>\n",
       "      <th>접종일</th>\n",
       "      <th>당일 1차접종자 수</th>\n",
       "      <th>1차접종률(%)</th>\n",
       "      <th>당일 2차접종자 수</th>\n",
       "      <th>2차접종률(%)</th>\n",
       "    </tr>\n",
       "  </thead>\n",
       "  <tbody>\n",
       "    <tr>\n",
       "      <th>0</th>\n",
       "      <td>2021.09.13</td>\n",
       "      <td>169036</td>\n",
       "      <td>64.4</td>\n",
       "      <td>68468</td>\n",
       "      <td>38.9</td>\n",
       "    </tr>\n",
       "    <tr>\n",
       "      <th>1</th>\n",
       "      <td>2021.09.12</td>\n",
       "      <td>3546</td>\n",
       "      <td>64.4</td>\n",
       "      <td>4917</td>\n",
       "      <td>38.9</td>\n",
       "    </tr>\n",
       "    <tr>\n",
       "      <th>2</th>\n",
       "      <td>2021.09.11</td>\n",
       "      <td>60926</td>\n",
       "      <td>64.4</td>\n",
       "      <td>40766</td>\n",
       "      <td>38.8</td>\n",
       "    </tr>\n",
       "    <tr>\n",
       "      <th>3</th>\n",
       "      <td>2021.09.10</td>\n",
       "      <td>123400</td>\n",
       "      <td>63.8</td>\n",
       "      <td>72243</td>\n",
       "      <td>38.4</td>\n",
       "    </tr>\n",
       "    <tr>\n",
       "      <th>4</th>\n",
       "      <td>2021.09.09</td>\n",
       "      <td>91416</td>\n",
       "      <td>62.5</td>\n",
       "      <td>50641</td>\n",
       "      <td>37.6</td>\n",
       "    </tr>\n",
       "    <tr>\n",
       "      <th>...</th>\n",
       "      <td>...</td>\n",
       "      <td>...</td>\n",
       "      <td>...</td>\n",
       "      <td>...</td>\n",
       "      <td>...</td>\n",
       "    </tr>\n",
       "    <tr>\n",
       "      <th>141</th>\n",
       "      <td>2021.04.25</td>\n",
       "      <td>23323</td>\n",
       "      <td>34.2</td>\n",
       "      <td>3411</td>\n",
       "      <td>1.8</td>\n",
       "    </tr>\n",
       "    <tr>\n",
       "      <th>142</th>\n",
       "      <td>2021.04.24</td>\n",
       "      <td>200</td>\n",
       "      <td>34.2</td>\n",
       "      <td>0</td>\n",
       "      <td>1.8</td>\n",
       "    </tr>\n",
       "    <tr>\n",
       "      <th>143</th>\n",
       "      <td>2021.04.23</td>\n",
       "      <td>10195</td>\n",
       "      <td>33.6</td>\n",
       "      <td>119</td>\n",
       "      <td>1.8</td>\n",
       "    </tr>\n",
       "    <tr>\n",
       "      <th>144</th>\n",
       "      <td>2021.04.22</td>\n",
       "      <td>27074</td>\n",
       "      <td>31.0</td>\n",
       "      <td>2479</td>\n",
       "      <td>1.6</td>\n",
       "    </tr>\n",
       "    <tr>\n",
       "      <th>145</th>\n",
       "      <td>2021.04.21</td>\n",
       "      <td>22501</td>\n",
       "      <td>28.6</td>\n",
       "      <td>2358</td>\n",
       "      <td>1.3</td>\n",
       "    </tr>\n",
       "  </tbody>\n",
       "</table>\n",
       "<p>146 rows × 5 columns</p>\n",
       "</div>"
      ],
      "text/plain": [
       "            접종일  당일 1차접종자 수  1차접종률(%)  당일 2차접종자 수  2차접종률(%)\n",
       "0    2021.09.13      169036      64.4       68468      38.9\n",
       "1    2021.09.12        3546      64.4        4917      38.9\n",
       "2    2021.09.11       60926      64.4       40766      38.8\n",
       "3    2021.09.10      123400      63.8       72243      38.4\n",
       "4    2021.09.09       91416      62.5       50641      37.6\n",
       "..          ...         ...       ...         ...       ...\n",
       "141  2021.04.25       23323      34.2        3411       1.8\n",
       "142  2021.04.24         200      34.2           0       1.8\n",
       "143  2021.04.23       10195      33.6         119       1.8\n",
       "144  2021.04.22       27074      31.0        2479       1.6\n",
       "145  2021.04.21       22501      28.6        2358       1.3\n",
       "\n",
       "[146 rows x 5 columns]"
      ]
     },
     "execution_count": 5,
     "metadata": {},
     "output_type": "execute_result"
    }
   ],
   "source": [
    "# drop 함수를 사용하여 접종 대상자 coulmn 데이터를 삭제한다.\n",
    "corona_del_col = corona_all.drop(columns = ['접종대상자','1차접종 누계', '2차접종 누계'])\n",
    "corona_del_col"
   ]
  },
  {
   "cell_type": "code",
   "execution_count": 6,
   "id": "46b31368",
   "metadata": {},
   "outputs": [
    {
     "data": {
      "text/html": [
       "<div>\n",
       "<style scoped>\n",
       "    .dataframe tbody tr th:only-of-type {\n",
       "        vertical-align: middle;\n",
       "    }\n",
       "\n",
       "    .dataframe tbody tr th {\n",
       "        vertical-align: top;\n",
       "    }\n",
       "\n",
       "    .dataframe thead th {\n",
       "        text-align: right;\n",
       "    }\n",
       "</style>\n",
       "<table border=\"1\" class=\"dataframe\">\n",
       "  <thead>\n",
       "    <tr style=\"text-align: right;\">\n",
       "      <th></th>\n",
       "      <th>접종일</th>\n",
       "      <th>1차접종자수</th>\n",
       "      <th>1차접종률(%)</th>\n",
       "      <th>2차접종자수</th>\n",
       "      <th>2차접종률(%)</th>\n",
       "    </tr>\n",
       "  </thead>\n",
       "  <tbody>\n",
       "    <tr>\n",
       "      <th>0</th>\n",
       "      <td>2021.09.13</td>\n",
       "      <td>169036</td>\n",
       "      <td>64.4</td>\n",
       "      <td>68468</td>\n",
       "      <td>38.9</td>\n",
       "    </tr>\n",
       "    <tr>\n",
       "      <th>1</th>\n",
       "      <td>2021.09.12</td>\n",
       "      <td>3546</td>\n",
       "      <td>64.4</td>\n",
       "      <td>4917</td>\n",
       "      <td>38.9</td>\n",
       "    </tr>\n",
       "    <tr>\n",
       "      <th>2</th>\n",
       "      <td>2021.09.11</td>\n",
       "      <td>60926</td>\n",
       "      <td>64.4</td>\n",
       "      <td>40766</td>\n",
       "      <td>38.8</td>\n",
       "    </tr>\n",
       "    <tr>\n",
       "      <th>3</th>\n",
       "      <td>2021.09.10</td>\n",
       "      <td>123400</td>\n",
       "      <td>63.8</td>\n",
       "      <td>72243</td>\n",
       "      <td>38.4</td>\n",
       "    </tr>\n",
       "    <tr>\n",
       "      <th>4</th>\n",
       "      <td>2021.09.09</td>\n",
       "      <td>91416</td>\n",
       "      <td>62.5</td>\n",
       "      <td>50641</td>\n",
       "      <td>37.6</td>\n",
       "    </tr>\n",
       "    <tr>\n",
       "      <th>...</th>\n",
       "      <td>...</td>\n",
       "      <td>...</td>\n",
       "      <td>...</td>\n",
       "      <td>...</td>\n",
       "      <td>...</td>\n",
       "    </tr>\n",
       "    <tr>\n",
       "      <th>141</th>\n",
       "      <td>2021.04.25</td>\n",
       "      <td>23323</td>\n",
       "      <td>34.2</td>\n",
       "      <td>3411</td>\n",
       "      <td>1.8</td>\n",
       "    </tr>\n",
       "    <tr>\n",
       "      <th>142</th>\n",
       "      <td>2021.04.24</td>\n",
       "      <td>200</td>\n",
       "      <td>34.2</td>\n",
       "      <td>0</td>\n",
       "      <td>1.8</td>\n",
       "    </tr>\n",
       "    <tr>\n",
       "      <th>143</th>\n",
       "      <td>2021.04.23</td>\n",
       "      <td>10195</td>\n",
       "      <td>33.6</td>\n",
       "      <td>119</td>\n",
       "      <td>1.8</td>\n",
       "    </tr>\n",
       "    <tr>\n",
       "      <th>144</th>\n",
       "      <td>2021.04.22</td>\n",
       "      <td>27074</td>\n",
       "      <td>31.0</td>\n",
       "      <td>2479</td>\n",
       "      <td>1.6</td>\n",
       "    </tr>\n",
       "    <tr>\n",
       "      <th>145</th>\n",
       "      <td>2021.04.21</td>\n",
       "      <td>22501</td>\n",
       "      <td>28.6</td>\n",
       "      <td>2358</td>\n",
       "      <td>1.3</td>\n",
       "    </tr>\n",
       "  </tbody>\n",
       "</table>\n",
       "<p>146 rows × 5 columns</p>\n",
       "</div>"
      ],
      "text/plain": [
       "            접종일  1차접종자수  1차접종률(%)  2차접종자수  2차접종률(%)\n",
       "0    2021.09.13  169036      64.4   68468      38.9\n",
       "1    2021.09.12    3546      64.4    4917      38.9\n",
       "2    2021.09.11   60926      64.4   40766      38.8\n",
       "3    2021.09.10  123400      63.8   72243      38.4\n",
       "4    2021.09.09   91416      62.5   50641      37.6\n",
       "..          ...     ...       ...     ...       ...\n",
       "141  2021.04.25   23323      34.2    3411       1.8\n",
       "142  2021.04.24     200      34.2       0       1.8\n",
       "143  2021.04.23   10195      33.6     119       1.8\n",
       "144  2021.04.22   27074      31.0    2479       1.6\n",
       "145  2021.04.21   22501      28.6    2358       1.3\n",
       "\n",
       "[146 rows x 5 columns]"
      ]
     },
     "execution_count": 6,
     "metadata": {},
     "output_type": "execute_result"
    }
   ],
   "source": [
    "corona_del_col.columns = ['접종일','1차접종자수','1차접종률(%)','2차접종자수','2차접종률(%)']\n",
    "corona_del_col"
   ]
  },
  {
   "cell_type": "markdown",
   "id": "37e47b6c",
   "metadata": {},
   "source": [
    "# 3. 데이터 시각화\n",
    "\n",
    "        각 변수 별로 추가적인 정제 또는 feature engineering 과정을 거치고 \n",
    "        시각화를 통하여 데이터의 특성 파악"
   ]
  },
  {
   "cell_type": "markdown",
   "id": "69bac5dd",
   "metadata": {},
   "source": [
    "# 3.1. 예방접종일 데이터 전처리하기"
   ]
  },
  {
   "cell_type": "code",
   "execution_count": 7,
   "id": "a340ecfa",
   "metadata": {},
   "outputs": [
    {
     "data": {
      "text/plain": [
       "0      2021.09.13\n",
       "1      2021.09.12\n",
       "2      2021.09.11\n",
       "3      2021.09.10\n",
       "4      2021.09.09\n",
       "          ...    \n",
       "141    2021.04.25\n",
       "142    2021.04.24\n",
       "143    2021.04.23\n",
       "144    2021.04.22\n",
       "145    2021.04.21\n",
       "Name: 접종일, Length: 146, dtype: object"
      ]
     },
     "execution_count": 7,
     "metadata": {},
     "output_type": "execute_result"
    }
   ],
   "source": [
    "# 데이터 정제를 완료한 corona_del_col 데이터를 바탕으로 각 column의 변수별로 어떠한 데이터 분포를 하고 있는지 시각화 표현\n",
    "corona_day = corona_del_col['접종일']\n",
    "corona_day"
   ]
  },
  {
   "cell_type": "code",
   "execution_count": 8,
   "id": "242c7220",
   "metadata": {},
   "outputs": [],
   "source": [
    "# dataframe에 추가하기 전, 임시로 데이터를 저장해 둘 list를 선언한다.\n",
    "month = []\n",
    "day = []\n",
    "\n",
    "for data in corona_del_col['접종일']:\n",
    "    # split 함수를 사용하여 월, 일을 나누어 list에 저장한다\n",
    "    month.append(data.split('.')[1])\n",
    "    day.append(data.split('.')[2])"
   ]
  },
  {
   "cell_type": "code",
   "execution_count": 9,
   "id": "c93505ca",
   "metadata": {},
   "outputs": [
    {
     "data": {
      "text/plain": [
       "0      9\n",
       "1      9\n",
       "2      9\n",
       "3      9\n",
       "4      9\n",
       "      ..\n",
       "141    4\n",
       "142    4\n",
       "143    4\n",
       "144    4\n",
       "145    4\n",
       "Name: month, Length: 146, dtype: int64"
      ]
     },
     "execution_count": 9,
     "metadata": {},
     "output_type": "execute_result"
    }
   ],
   "source": [
    "corona_del_col['month'] = month\n",
    "corona_del_col['day'] = day\n",
    "\n",
    "date_month = corona_del_col['month'].astype('int64')\n",
    "date_day = corona_del_col['day'].astype('int64')\n",
    "\n",
    "date_month"
   ]
  },
  {
   "cell_type": "code",
   "execution_count": 10,
   "id": "ccf6205e",
   "metadata": {},
   "outputs": [
    {
     "data": {
      "text/plain": [
       "0      13\n",
       "1      12\n",
       "2      11\n",
       "3      10\n",
       "4       9\n",
       "       ..\n",
       "141    25\n",
       "142    24\n",
       "143    23\n",
       "144    22\n",
       "145    21\n",
       "Name: day, Length: 146, dtype: int64"
      ]
     },
     "execution_count": 10,
     "metadata": {},
     "output_type": "execute_result"
    }
   ],
   "source": [
    "date_day"
   ]
  },
  {
   "cell_type": "markdown",
   "id": "8f125461",
   "metadata": {},
   "source": [
    "# 3.2.데이터 확인하기"
   ]
  },
  {
   "cell_type": "markdown",
   "id": "4849a87f",
   "metadata": {},
   "source": [
    "불러온 두 데이터프레임의 특정 컬럼 데이터를 중복없이 오름차순 정렬하여 확인해보기."
   ]
  },
  {
   "cell_type": "code",
   "execution_count": 11,
   "id": "aff7a8ef",
   "metadata": {},
   "outputs": [
    {
     "data": {
      "text/plain": [
       "['04', '05', '06', '07', '08', '09']"
      ]
     },
     "execution_count": 11,
     "metadata": {},
     "output_type": "execute_result"
    }
   ],
   "source": [
    "# dataframe에 month 데이터 확인\n",
    "sorted(list(set(corona_del_col['month'])))"
   ]
  },
  {
   "cell_type": "code",
   "execution_count": 12,
   "id": "f1a77276",
   "metadata": {},
   "outputs": [
    {
     "data": {
      "text/plain": [
       "['01',\n",
       " '02',\n",
       " '03',\n",
       " '04',\n",
       " '05',\n",
       " '06',\n",
       " '07',\n",
       " '08',\n",
       " '09',\n",
       " '10',\n",
       " '11',\n",
       " '12',\n",
       " '13',\n",
       " '14',\n",
       " '15',\n",
       " '16',\n",
       " '17',\n",
       " '18',\n",
       " '19',\n",
       " '20',\n",
       " '21',\n",
       " '22',\n",
       " '23',\n",
       " '24',\n",
       " '25',\n",
       " '26',\n",
       " '27',\n",
       " '28',\n",
       " '29',\n",
       " '30',\n",
       " '31']"
      ]
     },
     "execution_count": 12,
     "metadata": {},
     "output_type": "execute_result"
    }
   ],
   "source": [
    "# dataframe에 day 데이터 확인\n",
    "sorted(list(set(corona_del_col['day'])))"
   ]
  },
  {
   "cell_type": "markdown",
   "id": "3b214cbd",
   "metadata": {},
   "source": [
    "# 3.3. 월별 코로나 1차예방접종자 현황 출력"
   ]
  },
  {
   "cell_type": "code",
   "execution_count": 13,
   "id": "242398f0",
   "metadata": {},
   "outputs": [],
   "source": [
    "import matplotlib.font_manager as fm\n",
    "\n",
    "font_dirs = ['/usr/share/fonts/truetype/nanum', ]\n",
    "font_files = fm.findSystemFonts(fontpaths=font_dirs)\n",
    "\n",
    "for font_file in font_files:\n",
    "    fm.fontManager.addfont(font_file)"
   ]
  },
  {
   "cell_type": "code",
   "execution_count": 15,
   "id": "7cc7c903",
   "metadata": {
    "scrolled": false
   },
   "outputs": [
    {
     "data": {
      "image/png": "[encoded data removed]",
      "text/plain": [
       "<Figure size 720x360 with 1 Axes>"
      ]
     },
     "metadata": {
      "needs_background": "light"
     },
     "output_type": "display_data"
    }
   ],
   "source": [
    "corona_del_col_data = corona_del_col.groupby(['month']).mean().reset_index()\n",
    "corona_del_col_data = corona_del_col_data.set_index('month')\n",
    "corona_del_col_data\n",
    "corona_del_col_data = corona_del_col_data['1차접종자수'].sort_values(ascending=False)\n",
    "\n",
    "plt.figure(figsize=(10,5))\n",
    "plt.rc('font', family=\"NanumBarunGothic\")\n",
    "plt.rcParams['axes.unicode_minus'] = False\n",
    "\n",
    "corona_del_col_data.plot(kind=('bar'))\n",
    "plt.show()"
   ]
  },
  {
   "cell_type": "markdown",
   "id": "dd02bcb2",
   "metadata": {},
   "source": [
    "1차 접종자 수는 9얼 > 8월 > 6월 > 7월 > 4월 > 5월 순으로 보인다."
   ]
  },
  {
   "cell_type": "markdown",
   "id": "4647b60e",
   "metadata": {},
   "source": [
    "# 3.4. 월별 코로나 2차예방접종자 현황 출력"
   ]
  },
  {
   "cell_type": "code",
   "execution_count": 16,
   "id": "24e46f3c",
   "metadata": {},
   "outputs": [],
   "source": [
    "import matplotlib.font_manager as fm\n",
    "\n",
    "font_dirs = ['/usr/share/fonts/truetype/nanum', ]\n",
    "font_files = fm.findSystemFonts(fontpaths=font_dirs)\n",
    "\n",
    "for font_file in font_files:\n",
    "    fm.fontManager.addfont(font_file)"
   ]
  },
  {
   "cell_type": "code",
   "execution_count": 17,
   "id": "6bc97435",
   "metadata": {},
   "outputs": [
    {
     "data": {
      "image/png": "[encoded data removed]",
      "text/plain": [
       "<Figure size 720x360 with 1 Axes>"
      ]
     },
     "metadata": {
      "needs_background": "light"
     },
     "output_type": "display_data"
    }
   ],
   "source": [
    "corona_del_col_data = corona_del_col.groupby(['month']).mean().reset_index()\n",
    "corona_del_col_data\n",
    "corona_del_col_data = corona_del_col_data.set_index('month')\n",
    "corona_del_col_data\n",
    "corona_del_col_data = corona_del_col_data['2차접종자수'].sort_values(ascending=False)\n",
    "\n",
    "plt.figure(figsize=(10,5))\n",
    "plt.rc('font', family=\"NanumBarunGothic\")\n",
    "plt.rcParams['axes.unicode_minus'] = False\n",
    "\n",
    "corona_del_col_data.plot(kind=('bar'))\n",
    "plt.show()"
   ]
  },
  {
   "cell_type": "markdown",
   "id": "193a4017",
   "metadata": {},
   "source": [
    "2차 접종자 수는 9얼 > 8월 > 6월 > 7월 > 5월 > 4월 순으로 보인다. "
   ]
  },
  {
   "cell_type": "markdown",
   "id": "165dcc77",
   "metadata": {},
   "source": [
    "# 3.5. 2021년 9월 코로나 예방접종 현황만 추출\n",
    "    \n",
    "    그럼 위에 결과로 가장 접종자 수가 많았던 9월 중 접종자 수가 가장 많은 날을 \n",
    "    찾아보려고 한다."
   ]
  },
  {
   "cell_type": "code",
   "execution_count": 18,
   "id": "b53d8e67",
   "metadata": {},
   "outputs": [
    {
     "data": {
      "text/html": [
       "<div>\n",
       "<style scoped>\n",
       "    .dataframe tbody tr th:only-of-type {\n",
       "        vertical-align: middle;\n",
       "    }\n",
       "\n",
       "    .dataframe tbody tr th {\n",
       "        vertical-align: top;\n",
       "    }\n",
       "\n",
       "    .dataframe thead th {\n",
       "        text-align: right;\n",
       "    }\n",
       "</style>\n",
       "<table border=\"1\" class=\"dataframe\">\n",
       "  <thead>\n",
       "    <tr style=\"text-align: right;\">\n",
       "      <th></th>\n",
       "      <th>접종일</th>\n",
       "      <th>1차접종자수</th>\n",
       "      <th>1차접종률(%)</th>\n",
       "      <th>2차접종자수</th>\n",
       "      <th>2차접종률(%)</th>\n",
       "      <th>month</th>\n",
       "      <th>day</th>\n",
       "    </tr>\n",
       "  </thead>\n",
       "  <tbody>\n",
       "    <tr>\n",
       "      <th>0</th>\n",
       "      <td>2021.09.13</td>\n",
       "      <td>169036</td>\n",
       "      <td>64.4</td>\n",
       "      <td>68468</td>\n",
       "      <td>38.9</td>\n",
       "      <td>09</td>\n",
       "      <td>13</td>\n",
       "    </tr>\n",
       "    <tr>\n",
       "      <th>1</th>\n",
       "      <td>2021.09.12</td>\n",
       "      <td>3546</td>\n",
       "      <td>64.4</td>\n",
       "      <td>4917</td>\n",
       "      <td>38.9</td>\n",
       "      <td>09</td>\n",
       "      <td>12</td>\n",
       "    </tr>\n",
       "    <tr>\n",
       "      <th>2</th>\n",
       "      <td>2021.09.11</td>\n",
       "      <td>60926</td>\n",
       "      <td>64.4</td>\n",
       "      <td>40766</td>\n",
       "      <td>38.8</td>\n",
       "      <td>09</td>\n",
       "      <td>11</td>\n",
       "    </tr>\n",
       "    <tr>\n",
       "      <th>3</th>\n",
       "      <td>2021.09.10</td>\n",
       "      <td>123400</td>\n",
       "      <td>63.8</td>\n",
       "      <td>72243</td>\n",
       "      <td>38.4</td>\n",
       "      <td>09</td>\n",
       "      <td>10</td>\n",
       "    </tr>\n",
       "    <tr>\n",
       "      <th>4</th>\n",
       "      <td>2021.09.09</td>\n",
       "      <td>91416</td>\n",
       "      <td>62.5</td>\n",
       "      <td>50641</td>\n",
       "      <td>37.6</td>\n",
       "      <td>09</td>\n",
       "      <td>09</td>\n",
       "    </tr>\n",
       "    <tr>\n",
       "      <th>5</th>\n",
       "      <td>2021.09.08</td>\n",
       "      <td>73677</td>\n",
       "      <td>61.5</td>\n",
       "      <td>54596</td>\n",
       "      <td>37.1</td>\n",
       "      <td>09</td>\n",
       "      <td>08</td>\n",
       "    </tr>\n",
       "    <tr>\n",
       "      <th>6</th>\n",
       "      <td>2021.09.07</td>\n",
       "      <td>73677</td>\n",
       "      <td>60.7</td>\n",
       "      <td>54596</td>\n",
       "      <td>36.5</td>\n",
       "      <td>09</td>\n",
       "      <td>07</td>\n",
       "    </tr>\n",
       "    <tr>\n",
       "      <th>7</th>\n",
       "      <td>2021.09.06</td>\n",
       "      <td>111410</td>\n",
       "      <td>59.6</td>\n",
       "      <td>80167</td>\n",
       "      <td>35.7</td>\n",
       "      <td>09</td>\n",
       "      <td>06</td>\n",
       "    </tr>\n",
       "    <tr>\n",
       "      <th>8</th>\n",
       "      <td>2021.09.05</td>\n",
       "      <td>145248</td>\n",
       "      <td>58.1</td>\n",
       "      <td>116052</td>\n",
       "      <td>34.5</td>\n",
       "      <td>09</td>\n",
       "      <td>05</td>\n",
       "    </tr>\n",
       "    <tr>\n",
       "      <th>9</th>\n",
       "      <td>2021.09.04</td>\n",
       "      <td>1388</td>\n",
       "      <td>58.0</td>\n",
       "      <td>1580</td>\n",
       "      <td>34.5</td>\n",
       "      <td>09</td>\n",
       "      <td>04</td>\n",
       "    </tr>\n",
       "    <tr>\n",
       "      <th>10</th>\n",
       "      <td>2021.09.03</td>\n",
       "      <td>22326</td>\n",
       "      <td>57.8</td>\n",
       "      <td>42787</td>\n",
       "      <td>34.1</td>\n",
       "      <td>09</td>\n",
       "      <td>03</td>\n",
       "    </tr>\n",
       "    <tr>\n",
       "      <th>11</th>\n",
       "      <td>2021.09.02</td>\n",
       "      <td>45045</td>\n",
       "      <td>57.3</td>\n",
       "      <td>113133</td>\n",
       "      <td>32.8</td>\n",
       "      <td>09</td>\n",
       "      <td>02</td>\n",
       "    </tr>\n",
       "    <tr>\n",
       "      <th>12</th>\n",
       "      <td>2021.09.01</td>\n",
       "      <td>39320</td>\n",
       "      <td>56.9</td>\n",
       "      <td>88297</td>\n",
       "      <td>31.9</td>\n",
       "      <td>09</td>\n",
       "      <td>01</td>\n",
       "    </tr>\n",
       "  </tbody>\n",
       "</table>\n",
       "</div>"
      ],
      "text/plain": [
       "           접종일  1차접종자수  1차접종률(%)  2차접종자수  2차접종률(%) month day\n",
       "0   2021.09.13  169036      64.4   68468      38.9    09  13\n",
       "1   2021.09.12    3546      64.4    4917      38.9    09  12\n",
       "2   2021.09.11   60926      64.4   40766      38.8    09  11\n",
       "3   2021.09.10  123400      63.8   72243      38.4    09  10\n",
       "4   2021.09.09   91416      62.5   50641      37.6    09  09\n",
       "5   2021.09.08   73677      61.5   54596      37.1    09  08\n",
       "6   2021.09.07   73677      60.7   54596      36.5    09  07\n",
       "7   2021.09.06  111410      59.6   80167      35.7    09  06\n",
       "8   2021.09.05  145248      58.1  116052      34.5    09  05\n",
       "9   2021.09.04    1388      58.0    1580      34.5    09  04\n",
       "10  2021.09.03   22326      57.8   42787      34.1    09  03\n",
       "11  2021.09.02   45045      57.3  113133      32.8    09  02\n",
       "12  2021.09.01   39320      56.9   88297      31.9    09  01"
      ]
     },
     "execution_count": 18,
     "metadata": {},
     "output_type": "execute_result"
    }
   ],
   "source": [
    "corona_col9 = corona_del_col[corona_del_col['month']== '09']\n",
    "corona_col9"
   ]
  },
  {
   "cell_type": "markdown",
   "id": "7c57b982",
   "metadata": {},
   "source": [
    "아직 9월은 끝이나지 않았으므로 가장 최근 업데이트된 13일까지만 보인다."
   ]
  },
  {
   "cell_type": "markdown",
   "id": "0d767b89",
   "metadata": {},
   "source": [
    "# 3.6. 9월 일별 1차 예방접종자 수 출력"
   ]
  },
  {
   "cell_type": "code",
   "execution_count": 19,
   "id": "ed0add0a",
   "metadata": {},
   "outputs": [],
   "source": [
    "import matplotlib.font_manager as fm\n",
    "\n",
    "font_dirs = ['/usr/share/fonts/truetype/nanum', ]\n",
    "font_files = fm.findSystemFonts(fontpaths=font_dirs)\n",
    "\n",
    "for font_file in font_files:\n",
    "    fm.fontManager.addfont(font_file)"
   ]
  },
  {
   "cell_type": "code",
   "execution_count": 20,
   "id": "10ac26ea",
   "metadata": {},
   "outputs": [
    {
     "data": {
      "image/png": "[encoded data removed]",
      "text/plain": [
       "<Figure size 720x360 with 1 Axes>"
      ]
     },
     "metadata": {
      "needs_background": "light"
     },
     "output_type": "display_data"
    }
   ],
   "source": [
    "corona_col9_data = corona_col9.groupby(['day']).mean().reset_index()\n",
    "corona_col9_data\n",
    "corona_col9_data = corona_col9_data.set_index('day')\n",
    "corona_col9_data\n",
    "\n",
    "corona_col9_data_fir = corona_col9_data['1차접종자수'].sort_values(ascending=False)\n",
    "\n",
    "plt.figure(figsize=(10,5))\n",
    "plt.rc('font', family=\"NanumBarunGothic\")\n",
    "plt.rcParams['axes.unicode_minus'] = False\n",
    "\n",
    "corona_col9_data_fir.plot(kind=('bar'))\n",
    "plt.show()"
   ]
  },
  {
   "cell_type": "code",
   "execution_count": 21,
   "id": "cbe8e969",
   "metadata": {},
   "outputs": [
    {
     "data": {
      "text/plain": [
       "'13'"
      ]
     },
     "execution_count": 21,
     "metadata": {},
     "output_type": "execute_result"
    }
   ],
   "source": [
    "corona_col9_data_fir.index[0]"
   ]
  },
  {
   "cell_type": "markdown",
   "id": "aedf308e",
   "metadata": {},
   "source": [
    "제일 앞에 있는 인덱스를 가져와 가장 많은 접종자수가 있던 날짜를 알 수 있다.\n",
    "9월 1차 접종자 수가 가장 많은 날은 13일이다."
   ]
  },
  {
   "cell_type": "markdown",
   "id": "b3da333e",
   "metadata": {},
   "source": [
    "# 3.7. 9월 일별 2차 예방접종자 수 출력"
   ]
  },
  {
   "cell_type": "code",
   "execution_count": 22,
   "id": "5bb3f0b2",
   "metadata": {},
   "outputs": [
    {
     "data": {
      "image/png": "[encoded data removed]",
      "text/plain": [
       "<Figure size 720x360 with 1 Axes>"
      ]
     },
     "metadata": {
      "needs_background": "light"
     },
     "output_type": "display_data"
    }
   ],
   "source": [
    "corona_col9_data = corona_col9.groupby(['day']).mean().reset_index()\n",
    "corona_col9_data\n",
    "corona_col9_data = corona_col9_data.set_index('day')\n",
    "corona_col9_data\n",
    "\n",
    "corona_col9_data_sec = corona_col9_data['2차접종자수'].sort_values(ascending=False)\n",
    "\n",
    "plt.figure(figsize=(10,5))\n",
    "plt.rc('font', family=\"NanumBarunGothic\")\n",
    "plt.rcParams['axes.unicode_minus'] = False\n",
    "\n",
    "corona_col9_data_sec.plot(kind=('bar'))\n",
    "plt.show()"
   ]
  },
  {
   "cell_type": "code",
   "execution_count": 23,
   "id": "3337d7ab",
   "metadata": {},
   "outputs": [
    {
     "data": {
      "text/plain": [
       "'05'"
      ]
     },
     "execution_count": 23,
     "metadata": {},
     "output_type": "execute_result"
    }
   ],
   "source": [
    "corona_col9_data_sec.index[0]"
   ]
  },
  {
   "cell_type": "markdown",
   "id": "89a22d94",
   "metadata": {},
   "source": [
    "9월 2차 접종자 수가 가장 많은 날은 5일이다."
   ]
  },
  {
   "cell_type": "markdown",
   "id": "223445bb",
   "metadata": {},
   "source": [
    "# 3.8. 월별 1차/ 2차접종률 데이터 그래프 분석\n",
    "\n",
    "        1차 접종과 2차 접종의 차이를 확인해보기."
   ]
  },
  {
   "cell_type": "code",
   "execution_count": 24,
   "id": "c5c5e592",
   "metadata": {},
   "outputs": [
    {
     "data": {
      "text/html": [
       "<div>\n",
       "<style scoped>\n",
       "    .dataframe tbody tr th:only-of-type {\n",
       "        vertical-align: middle;\n",
       "    }\n",
       "\n",
       "    .dataframe tbody tr th {\n",
       "        vertical-align: top;\n",
       "    }\n",
       "\n",
       "    .dataframe thead th {\n",
       "        text-align: right;\n",
       "    }\n",
       "</style>\n",
       "<table border=\"1\" class=\"dataframe\">\n",
       "  <thead>\n",
       "    <tr style=\"text-align: right;\">\n",
       "      <th></th>\n",
       "      <th>First_inoculator(%)</th>\n",
       "      <th>Second_inoculator(%)</th>\n",
       "    </tr>\n",
       "    <tr>\n",
       "      <th>month</th>\n",
       "      <th></th>\n",
       "      <th></th>\n",
       "    </tr>\n",
       "  </thead>\n",
       "  <tbody>\n",
       "    <tr>\n",
       "      <th>04</th>\n",
       "      <td>36.440000</td>\n",
       "      <td>2.140000</td>\n",
       "    </tr>\n",
       "    <tr>\n",
       "      <th>05</th>\n",
       "      <td>51.435484</td>\n",
       "      <td>12.529032</td>\n",
       "    </tr>\n",
       "    <tr>\n",
       "      <th>06</th>\n",
       "      <td>69.240000</td>\n",
       "      <td>19.276667</td>\n",
       "    </tr>\n",
       "    <tr>\n",
       "      <th>07</th>\n",
       "      <td>80.232258</td>\n",
       "      <td>30.467742</td>\n",
       "    </tr>\n",
       "    <tr>\n",
       "      <th>08</th>\n",
       "      <td>72.509677</td>\n",
       "      <td>31.080645</td>\n",
       "    </tr>\n",
       "    <tr>\n",
       "      <th>09</th>\n",
       "      <td>60.723077</td>\n",
       "      <td>36.130769</td>\n",
       "    </tr>\n",
       "  </tbody>\n",
       "</table>\n",
       "</div>"
      ],
      "text/plain": [
       "       First_inoculator(%)  Second_inoculator(%)\n",
       "month                                           \n",
       "04               36.440000              2.140000\n",
       "05               51.435484             12.529032\n",
       "06               69.240000             19.276667\n",
       "07               80.232258             30.467742\n",
       "08               72.509677             31.080645\n",
       "09               60.723077             36.130769"
      ]
     },
     "execution_count": 24,
     "metadata": {},
     "output_type": "execute_result"
    }
   ],
   "source": [
    "tmp = pd.DataFrame(corona_del_col.groupby(\"month\").mean()).reset_index()\n",
    "\n",
    "tmp = tmp.drop(columns = ['1차접종자수','2차접종자수']).rename(columns={\"1차접종률(%)\":\"First_inoculator(%)\", \"2차접종률(%)\":\"Second_inoculator(%)\"})\n",
    "\n",
    "tmp = tmp.set_index('month')\n",
    "\n",
    "tmp\n"
   ]
  },
  {
   "cell_type": "code",
   "execution_count": 25,
   "id": "98ac5ed0",
   "metadata": {},
   "outputs": [
    {
     "data": {
      "text/plain": [
       "<AxesSubplot:xlabel='month'>"
      ]
     },
     "execution_count": 25,
     "metadata": {},
     "output_type": "execute_result"
    },
    {
     "data": {
      "image/png": "[encoded data removed]",
      "text/plain": [
       "<Figure size 432x288 with 1 Axes>"
      ]
     },
     "metadata": {
      "needs_background": "light"
     },
     "output_type": "display_data"
    }
   ],
   "source": [
    "tmp.plot()"
   ]
  },
  {
   "cell_type": "markdown",
   "id": "55e7cf38",
   "metadata": {},
   "source": [
    "1차 접종 후, 2차 접종이 어느 정도의 기간 후 진행되므로 접종률의 수치 데이터를  나타낸 그래프에 확실히 보여지는 걸 볼 수 있다.\n",
    "\n",
    "4월에 1차 접종이 시작되서 4월의 2차 접종률은 현저히 적은 수치를 보여진다. \n",
    "\n",
    "그리고 계속하여 1차 접종자가 일정 기간후. 2차 접종을 맞으므로 2차 접종률은 월마다 증가하는 추세를 보인다.\n",
    "\n",
    "앞으로 1차 접종자수 늘어나다가 점점 줄어주는 추세를 보이면 많은 사람이 맞아 접종대상자가 줄어졌다는 걸 의미하는 것으로 보인다.\n"
   ]
  }
 ],
 "metadata": {
  "kernelspec": {
   "display_name": "Python 3",
   "language": "python",
   "name": "python3"
  },
  "language_info": {
   "codemirror_mode": {
    "name": "ipython",
    "version": 3
   },
   "file_extension": ".py",
   "mimetype": "text/x-python",
   "name": "python",
   "nbconvert_exporter": "python",
   "pygments_lexer": "ipython3",
   "version": "3.8.8"
  }
 },
 "nbformat": 4,
 "nbformat_minor": 5
}
